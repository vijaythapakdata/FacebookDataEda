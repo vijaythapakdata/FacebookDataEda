{
  "nbformat": 4,
  "nbformat_minor": 0,
  "metadata": {
    "colab": {
      "name": "FaceBookDataEda.ipynb",
      "provenance": [],
      "collapsed_sections": [],
      "authorship_tag": "ABX9TyOGGsvCAJ+OpdHV/Bttf1lj",
      "include_colab_link": true
    },
    "kernelspec": {
      "name": "python3",
      "display_name": "Python 3"
    },
    "language_info": {
      "name": "python"
    }
  },
  "cells": [
    {
      "cell_type": "markdown",
      "metadata": {
        "id": "view-in-github",
        "colab_type": "text"
      },
      "source": [
        "<a href=\"https://colab.research.google.com/github/vijaythapakdata/FacebookDataEda/blob/main/FaceBookDataEda.ipynb\" target=\"_parent\"><img src=\"https://colab.research.google.com/assets/colab-badge.svg\" alt=\"Open In Colab\"/></a>"
      ]
    },
    {
      "cell_type": "markdown",
      "metadata": {
        "id": "WwpfUgncoD7k"
      },
      "source": [
        "Import dependcies\n"
      ]
    },
    {
      "cell_type": "code",
      "metadata": {
        "id": "KYQBQ_ZAn4xE"
      },
      "source": [
        "import matplotlib.pyplot as plt\n",
        "import pandas as pd\n",
        "import numpy as np\n",
        "import seaborn as sns\n",
        "from sklearn.preprocessing import StandardScaler\n",
        "%matplotlib inline"
      ],
      "execution_count": 1,
      "outputs": []
    },
    {
      "cell_type": "markdown",
      "metadata": {
        "id": "xuBigFfUoeTI"
      },
      "source": [
        "Data Collection"
      ]
    },
    {
      "cell_type": "code",
      "metadata": {
        "id": "Yehj4QIIoiDD"
      },
      "source": [
        "facebook_data=pd.read_csv(\"/content/pseudo_facebook.csv\")"
      ],
      "execution_count": 2,
      "outputs": []
    },
    {
      "cell_type": "code",
      "metadata": {
        "colab": {
          "base_uri": "https://localhost:8080/",
          "height": 224
        },
        "id": "QCUiWB_4ooZm",
        "outputId": "30ef0b7a-533d-4a51-db32-33b7a615fb93"
      },
      "source": [
        "#print first 5 rows\n",
        "facebook_data.head()"
      ],
      "execution_count": 3,
      "outputs": [
        {
          "output_type": "execute_result",
          "data": {
            "text/html": [
              "<div>\n",
              "<style scoped>\n",
              "    .dataframe tbody tr th:only-of-type {\n",
              "        vertical-align: middle;\n",
              "    }\n",
              "\n",
              "    .dataframe tbody tr th {\n",
              "        vertical-align: top;\n",
              "    }\n",
              "\n",
              "    .dataframe thead th {\n",
              "        text-align: right;\n",
              "    }\n",
              "</style>\n",
              "<table border=\"1\" class=\"dataframe\">\n",
              "  <thead>\n",
              "    <tr style=\"text-align: right;\">\n",
              "      <th></th>\n",
              "      <th>userid</th>\n",
              "      <th>age</th>\n",
              "      <th>dob_day</th>\n",
              "      <th>dob_year</th>\n",
              "      <th>dob_month</th>\n",
              "      <th>gender</th>\n",
              "      <th>tenure</th>\n",
              "      <th>friend_count</th>\n",
              "      <th>friendships_initiated</th>\n",
              "      <th>likes</th>\n",
              "      <th>likes_received</th>\n",
              "      <th>mobile_likes</th>\n",
              "      <th>mobile_likes_received</th>\n",
              "      <th>www_likes</th>\n",
              "      <th>www_likes_received</th>\n",
              "    </tr>\n",
              "  </thead>\n",
              "  <tbody>\n",
              "    <tr>\n",
              "      <th>0</th>\n",
              "      <td>2094382</td>\n",
              "      <td>14</td>\n",
              "      <td>19</td>\n",
              "      <td>1999</td>\n",
              "      <td>11</td>\n",
              "      <td>male</td>\n",
              "      <td>266.0</td>\n",
              "      <td>0</td>\n",
              "      <td>0</td>\n",
              "      <td>0</td>\n",
              "      <td>0</td>\n",
              "      <td>0</td>\n",
              "      <td>0</td>\n",
              "      <td>0</td>\n",
              "      <td>0</td>\n",
              "    </tr>\n",
              "    <tr>\n",
              "      <th>1</th>\n",
              "      <td>1192601</td>\n",
              "      <td>14</td>\n",
              "      <td>2</td>\n",
              "      <td>1999</td>\n",
              "      <td>11</td>\n",
              "      <td>female</td>\n",
              "      <td>6.0</td>\n",
              "      <td>0</td>\n",
              "      <td>0</td>\n",
              "      <td>0</td>\n",
              "      <td>0</td>\n",
              "      <td>0</td>\n",
              "      <td>0</td>\n",
              "      <td>0</td>\n",
              "      <td>0</td>\n",
              "    </tr>\n",
              "    <tr>\n",
              "      <th>2</th>\n",
              "      <td>2083884</td>\n",
              "      <td>14</td>\n",
              "      <td>16</td>\n",
              "      <td>1999</td>\n",
              "      <td>11</td>\n",
              "      <td>male</td>\n",
              "      <td>13.0</td>\n",
              "      <td>0</td>\n",
              "      <td>0</td>\n",
              "      <td>0</td>\n",
              "      <td>0</td>\n",
              "      <td>0</td>\n",
              "      <td>0</td>\n",
              "      <td>0</td>\n",
              "      <td>0</td>\n",
              "    </tr>\n",
              "    <tr>\n",
              "      <th>3</th>\n",
              "      <td>1203168</td>\n",
              "      <td>14</td>\n",
              "      <td>25</td>\n",
              "      <td>1999</td>\n",
              "      <td>12</td>\n",
              "      <td>female</td>\n",
              "      <td>93.0</td>\n",
              "      <td>0</td>\n",
              "      <td>0</td>\n",
              "      <td>0</td>\n",
              "      <td>0</td>\n",
              "      <td>0</td>\n",
              "      <td>0</td>\n",
              "      <td>0</td>\n",
              "      <td>0</td>\n",
              "    </tr>\n",
              "    <tr>\n",
              "      <th>4</th>\n",
              "      <td>1733186</td>\n",
              "      <td>14</td>\n",
              "      <td>4</td>\n",
              "      <td>1999</td>\n",
              "      <td>12</td>\n",
              "      <td>male</td>\n",
              "      <td>82.0</td>\n",
              "      <td>0</td>\n",
              "      <td>0</td>\n",
              "      <td>0</td>\n",
              "      <td>0</td>\n",
              "      <td>0</td>\n",
              "      <td>0</td>\n",
              "      <td>0</td>\n",
              "      <td>0</td>\n",
              "    </tr>\n",
              "  </tbody>\n",
              "</table>\n",
              "</div>"
            ],
            "text/plain": [
              "    userid  age  dob_day  ...  mobile_likes_received  www_likes www_likes_received\n",
              "0  2094382   14       19  ...                      0          0                  0\n",
              "1  1192601   14        2  ...                      0          0                  0\n",
              "2  2083884   14       16  ...                      0          0                  0\n",
              "3  1203168   14       25  ...                      0          0                  0\n",
              "4  1733186   14        4  ...                      0          0                  0\n",
              "\n",
              "[5 rows x 15 columns]"
            ]
          },
          "metadata": {},
          "execution_count": 3
        }
      ]
    },
    {
      "cell_type": "code",
      "metadata": {
        "colab": {
          "base_uri": "https://localhost:8080/"
        },
        "id": "givy3W42o5FB",
        "outputId": "95efa65f-8fad-4733-a665-62df6e176d51"
      },
      "source": [
        "#print the shape of data\n",
        "facebook_data.shape"
      ],
      "execution_count": 4,
      "outputs": [
        {
          "output_type": "execute_result",
          "data": {
            "text/plain": [
              "(99003, 15)"
            ]
          },
          "metadata": {},
          "execution_count": 4
        }
      ]
    },
    {
      "cell_type": "code",
      "metadata": {
        "colab": {
          "base_uri": "https://localhost:8080/"
        },
        "id": "9q_CsSvvo-Kz",
        "outputId": "68176b84-47c6-4794-94b9-1153efdeea53"
      },
      "source": [
        "#print the columns\n",
        "facebook_data.columns"
      ],
      "execution_count": 5,
      "outputs": [
        {
          "output_type": "execute_result",
          "data": {
            "text/plain": [
              "Index(['userid', 'age', 'dob_day', 'dob_year', 'dob_month', 'gender', 'tenure',\n",
              "       'friend_count', 'friendships_initiated', 'likes', 'likes_received',\n",
              "       'mobile_likes', 'mobile_likes_received', 'www_likes',\n",
              "       'www_likes_received'],\n",
              "      dtype='object')"
            ]
          },
          "metadata": {},
          "execution_count": 5
        }
      ]
    },
    {
      "cell_type": "code",
      "metadata": {
        "colab": {
          "base_uri": "https://localhost:8080/"
        },
        "id": "rvuA-iXvpDfR",
        "outputId": "152cf6a8-6f76-498f-fb8b-f77ed136199d"
      },
      "source": [
        "#check any missing values\n",
        "facebook_data.isnull().sum()"
      ],
      "execution_count": 6,
      "outputs": [
        {
          "output_type": "execute_result",
          "data": {
            "text/plain": [
              "userid                     0\n",
              "age                        0\n",
              "dob_day                    0\n",
              "dob_year                   0\n",
              "dob_month                  0\n",
              "gender                   175\n",
              "tenure                     2\n",
              "friend_count               0\n",
              "friendships_initiated      0\n",
              "likes                      0\n",
              "likes_received             0\n",
              "mobile_likes               0\n",
              "mobile_likes_received      0\n",
              "www_likes                  0\n",
              "www_likes_received         0\n",
              "dtype: int64"
            ]
          },
          "metadata": {},
          "execution_count": 6
        }
      ]
    },
    {
      "cell_type": "code",
      "metadata": {
        "id": "zK2FX5W-pReg"
      },
      "source": [
        "facebook_data.dropna(inplace=True)"
      ],
      "execution_count": 7,
      "outputs": []
    },
    {
      "cell_type": "code",
      "metadata": {
        "colab": {
          "base_uri": "https://localhost:8080/"
        },
        "id": "ZX3YDq4NpXnD",
        "outputId": "539a52e1-eff0-4fe7-eba4-66f40026b066"
      },
      "source": [
        "facebook_data.isnull().sum()"
      ],
      "execution_count": 8,
      "outputs": [
        {
          "output_type": "execute_result",
          "data": {
            "text/plain": [
              "userid                   0\n",
              "age                      0\n",
              "dob_day                  0\n",
              "dob_year                 0\n",
              "dob_month                0\n",
              "gender                   0\n",
              "tenure                   0\n",
              "friend_count             0\n",
              "friendships_initiated    0\n",
              "likes                    0\n",
              "likes_received           0\n",
              "mobile_likes             0\n",
              "mobile_likes_received    0\n",
              "www_likes                0\n",
              "www_likes_received       0\n",
              "dtype: int64"
            ]
          },
          "metadata": {},
          "execution_count": 8
        }
      ]
    },
    {
      "cell_type": "code",
      "metadata": {
        "colab": {
          "base_uri": "https://localhost:8080/"
        },
        "id": "VfBNRlddpexZ",
        "outputId": "b80e8602-8853-4f14-847d-c3c08eaa1544"
      },
      "source": [
        "facebook_data[\"age\"].value_counts()"
      ],
      "execution_count": 11,
      "outputs": [
        {
          "output_type": "execute_result",
          "data": {
            "text/plain": [
              "18     5196\n",
              "23     4402\n",
              "19     4390\n",
              "20     3768\n",
              "21     3670\n",
              "       ... \n",
              "87       41\n",
              "112      18\n",
              "111      17\n",
              "110      14\n",
              "109       9\n",
              "Name: age, Length: 101, dtype: int64"
            ]
          },
          "metadata": {},
          "execution_count": 11
        }
      ]
    },
    {
      "cell_type": "code",
      "metadata": {
        "colab": {
          "base_uri": "https://localhost:8080/",
          "height": 337
        },
        "id": "BRyiRhNlp521",
        "outputId": "5e9232b6-0099-4f8f-ec4d-a2f850914392"
      },
      "source": [
        "#plot a bargraph w.r.t age and top 10\n",
        "plt.figure(figsize=(12,5))\n",
        "sns.set_style(\"whitegrid\")\n",
        "plt.bar(list(facebook_data[\"age\"].value_counts()[:10].keys()),list(facebook_data[\"age\"].value_counts()[:10]),label=\"age\")\n",
        "plt.legend()\n",
        "plt.plot()"
      ],
      "execution_count": 15,
      "outputs": [
        {
          "output_type": "execute_result",
          "data": {
            "text/plain": [
              "[]"
            ]
          },
          "metadata": {},
          "execution_count": 15
        },
        {
          "output_type": "display_data",
          "data": {
            "image/png": "[encoded data removed]",
            "text/plain": [
              "<Figure size 864x360 with 1 Axes>"
            ]
          },
          "metadata": {}
        }
      ]
    },
    {
      "cell_type": "code",
      "metadata": {
        "colab": {
          "base_uri": "https://localhost:8080/",
          "height": 224
        },
        "id": "gc-Ww_UNrEnx",
        "outputId": "fe4eb937-f178-4661-ba32-4c3db8204719"
      },
      "source": [
        "#check data w.r.t likes\n",
        "highest_likes=facebook_data[facebook_data[\"mobile_likes\"]!=0]\n",
        "highest_likes.head()"
      ],
      "execution_count": 19,
      "outputs": [
        {
          "output_type": "execute_result",
          "data": {
            "text/html": [
              "<div>\n",
              "<style scoped>\n",
              "    .dataframe tbody tr th:only-of-type {\n",
              "        vertical-align: middle;\n",
              "    }\n",
              "\n",
              "    .dataframe tbody tr th {\n",
              "        vertical-align: top;\n",
              "    }\n",
              "\n",
              "    .dataframe thead th {\n",
              "        text-align: right;\n",
              "    }\n",
              "</style>\n",
              "<table border=\"1\" class=\"dataframe\">\n",
              "  <thead>\n",
              "    <tr style=\"text-align: right;\">\n",
              "      <th></th>\n",
              "      <th>userid</th>\n",
              "      <th>age</th>\n",
              "      <th>dob_day</th>\n",
              "      <th>dob_year</th>\n",
              "      <th>dob_month</th>\n",
              "      <th>gender</th>\n",
              "      <th>tenure</th>\n",
              "      <th>friend_count</th>\n",
              "      <th>friendships_initiated</th>\n",
              "      <th>likes</th>\n",
              "      <th>likes_received</th>\n",
              "      <th>mobile_likes</th>\n",
              "      <th>mobile_likes_received</th>\n",
              "      <th>www_likes</th>\n",
              "      <th>www_likes_received</th>\n",
              "    </tr>\n",
              "  </thead>\n",
              "  <tbody>\n",
              "    <tr>\n",
              "      <th>1731</th>\n",
              "      <td>1711316</td>\n",
              "      <td>13</td>\n",
              "      <td>9</td>\n",
              "      <td>2000</td>\n",
              "      <td>5</td>\n",
              "      <td>male</td>\n",
              "      <td>40.0</td>\n",
              "      <td>0</td>\n",
              "      <td>0</td>\n",
              "      <td>1</td>\n",
              "      <td>0</td>\n",
              "      <td>1</td>\n",
              "      <td>0</td>\n",
              "      <td>0</td>\n",
              "      <td>0</td>\n",
              "    </tr>\n",
              "    <tr>\n",
              "      <th>1732</th>\n",
              "      <td>2154106</td>\n",
              "      <td>13</td>\n",
              "      <td>5</td>\n",
              "      <td>2000</td>\n",
              "      <td>6</td>\n",
              "      <td>male</td>\n",
              "      <td>11.0</td>\n",
              "      <td>0</td>\n",
              "      <td>0</td>\n",
              "      <td>1</td>\n",
              "      <td>0</td>\n",
              "      <td>1</td>\n",
              "      <td>0</td>\n",
              "      <td>0</td>\n",
              "      <td>0</td>\n",
              "    </tr>\n",
              "    <tr>\n",
              "      <th>1733</th>\n",
              "      <td>1443003</td>\n",
              "      <td>17</td>\n",
              "      <td>10</td>\n",
              "      <td>1996</td>\n",
              "      <td>5</td>\n",
              "      <td>male</td>\n",
              "      <td>20.0</td>\n",
              "      <td>0</td>\n",
              "      <td>0</td>\n",
              "      <td>1</td>\n",
              "      <td>0</td>\n",
              "      <td>1</td>\n",
              "      <td>0</td>\n",
              "      <td>0</td>\n",
              "      <td>0</td>\n",
              "    </tr>\n",
              "    <tr>\n",
              "      <th>1734</th>\n",
              "      <td>1218071</td>\n",
              "      <td>18</td>\n",
              "      <td>13</td>\n",
              "      <td>1995</td>\n",
              "      <td>5</td>\n",
              "      <td>male</td>\n",
              "      <td>529.0</td>\n",
              "      <td>0</td>\n",
              "      <td>0</td>\n",
              "      <td>1</td>\n",
              "      <td>0</td>\n",
              "      <td>1</td>\n",
              "      <td>0</td>\n",
              "      <td>0</td>\n",
              "      <td>0</td>\n",
              "    </tr>\n",
              "    <tr>\n",
              "      <th>1735</th>\n",
              "      <td>1711205</td>\n",
              "      <td>18</td>\n",
              "      <td>10</td>\n",
              "      <td>1995</td>\n",
              "      <td>6</td>\n",
              "      <td>male</td>\n",
              "      <td>29.0</td>\n",
              "      <td>0</td>\n",
              "      <td>0</td>\n",
              "      <td>1</td>\n",
              "      <td>0</td>\n",
              "      <td>1</td>\n",
              "      <td>0</td>\n",
              "      <td>0</td>\n",
              "      <td>0</td>\n",
              "    </tr>\n",
              "  </tbody>\n",
              "</table>\n",
              "</div>"
            ],
            "text/plain": [
              "       userid  age  ...  www_likes  www_likes_received\n",
              "1731  1711316   13  ...          0                   0\n",
              "1732  2154106   13  ...          0                   0\n",
              "1733  1443003   17  ...          0                   0\n",
              "1734  1218071   18  ...          0                   0\n",
              "1735  1711205   18  ...          0                   0\n",
              "\n",
              "[5 rows x 15 columns]"
            ]
          },
          "metadata": {},
          "execution_count": 19
        }
      ]
    },
    {
      "cell_type": "code",
      "metadata": {
        "colab": {
          "base_uri": "https://localhost:8080/",
          "height": 265
        },
        "id": "8UKOhyftsJVS",
        "outputId": "6887511a-0934-4472-d1cb-ca319854d4e3"
      },
      "source": [
        "plt.figure(figsize=(10,4))\n",
        "plt.hist(highest_likes[\"mobile_likes\"],bins=20)\n",
        "plt.show()"
      ],
      "execution_count": 23,
      "outputs": [
        {
          "output_type": "display_data",
          "data": {
            "image/png": "[encoded data removed]",
            "text/plain": [
              "<Figure size 720x288 with 1 Axes>"
            ]
          },
          "metadata": {}
        }
      ]
    },
    {
      "cell_type": "code",
      "metadata": {
        "colab": {
          "base_uri": "https://localhost:8080/",
          "height": 320
        },
        "id": "L0qudemZs8V8",
        "outputId": "02f2692c-386f-44e5-f615-1d5ffcdefeef"
      },
      "source": [
        "plt.figure(figsize=(12,5))\n",
        "plt.bar(list(highest_likes[\"mobile_likes\"].value_counts()[:10].keys()),list(highest_likes[\"mobile_likes\"].value_counts()[:10]),label=\"Mobile Likes\")\n",
        "plt.legend()\n",
        "plt.show()"
      ],
      "execution_count": 25,
      "outputs": [
        {
          "output_type": "display_data",
          "data": {
            "image/png": "[encoded data removed]",
            "text/plain": [
              "<Figure size 864x360 with 1 Axes>"
            ]
          },
          "metadata": {}
        }
      ]
    },
    {
      "cell_type": "code",
      "metadata": {
        "colab": {
          "base_uri": "https://localhost:8080/",
          "height": 442
        },
        "id": "2uWI0FuptiRe",
        "outputId": "54cbc749-07f5-4220-8201-1b077f700e1b"
      },
      "source": [
        "plt.figure(figsize=(12,7))\n",
        "sns.set_style(\"whitegrid\")\n",
        "sns.countplot(y=\"mobile_likes\",data=facebook_data, palette=\"Set2\",order=highest_likes[\"mobile_likes\"].value_counts().index[:10])\n",
        "plt.show()"
      ],
      "execution_count": 28,
      "outputs": [
        {
          "output_type": "display_data",
          "data": {
            "image/png": "[encoded data removed]",
            "text/plain": [
              "<Figure size 864x504 with 1 Axes>"
            ]
          },
          "metadata": {}
        }
      ]
    },
    {
      "cell_type": "code",
      "metadata": {
        "colab": {
          "base_uri": "https://localhost:8080/",
          "height": 224
        },
        "id": "2209s-NXue72",
        "outputId": "c4fa3fb5-dec9-41e1-ea14-351e65ae16de"
      },
      "source": [
        "friend_list=facebook_data[facebook_data[\"friend_count\"]!=0]\n",
        "friend_list.head()"
      ],
      "execution_count": 31,
      "outputs": [
        {
          "output_type": "execute_result",
          "data": {
            "text/html": [
              "<div>\n",
              "<style scoped>\n",
              "    .dataframe tbody tr th:only-of-type {\n",
              "        vertical-align: middle;\n",
              "    }\n",
              "\n",
              "    .dataframe tbody tr th {\n",
              "        vertical-align: top;\n",
              "    }\n",
              "\n",
              "    .dataframe thead th {\n",
              "        text-align: right;\n",
              "    }\n",
              "</style>\n",
              "<table border=\"1\" class=\"dataframe\">\n",
              "  <thead>\n",
              "    <tr style=\"text-align: right;\">\n",
              "      <th></th>\n",
              "      <th>userid</th>\n",
              "      <th>age</th>\n",
              "      <th>dob_day</th>\n",
              "      <th>dob_year</th>\n",
              "      <th>dob_month</th>\n",
              "      <th>gender</th>\n",
              "      <th>tenure</th>\n",
              "      <th>friend_count</th>\n",
              "      <th>friendships_initiated</th>\n",
              "      <th>likes</th>\n",
              "      <th>likes_received</th>\n",
              "      <th>mobile_likes</th>\n",
              "      <th>mobile_likes_received</th>\n",
              "      <th>www_likes</th>\n",
              "      <th>www_likes_received</th>\n",
              "    </tr>\n",
              "  </thead>\n",
              "  <tbody>\n",
              "    <tr>\n",
              "      <th>1962</th>\n",
              "      <td>1295206</td>\n",
              "      <td>14</td>\n",
              "      <td>15</td>\n",
              "      <td>1999</td>\n",
              "      <td>12</td>\n",
              "      <td>female</td>\n",
              "      <td>126.0</td>\n",
              "      <td>1</td>\n",
              "      <td>1</td>\n",
              "      <td>0</td>\n",
              "      <td>0</td>\n",
              "      <td>0</td>\n",
              "      <td>0</td>\n",
              "      <td>0</td>\n",
              "      <td>0</td>\n",
              "    </tr>\n",
              "    <tr>\n",
              "      <th>1963</th>\n",
              "      <td>1549189</td>\n",
              "      <td>14</td>\n",
              "      <td>20</td>\n",
              "      <td>1999</td>\n",
              "      <td>12</td>\n",
              "      <td>female</td>\n",
              "      <td>95.0</td>\n",
              "      <td>1</td>\n",
              "      <td>1</td>\n",
              "      <td>0</td>\n",
              "      <td>0</td>\n",
              "      <td>0</td>\n",
              "      <td>0</td>\n",
              "      <td>0</td>\n",
              "      <td>0</td>\n",
              "    </tr>\n",
              "    <tr>\n",
              "      <th>1964</th>\n",
              "      <td>1102182</td>\n",
              "      <td>14</td>\n",
              "      <td>10</td>\n",
              "      <td>1999</td>\n",
              "      <td>12</td>\n",
              "      <td>female</td>\n",
              "      <td>2.0</td>\n",
              "      <td>1</td>\n",
              "      <td>1</td>\n",
              "      <td>0</td>\n",
              "      <td>0</td>\n",
              "      <td>0</td>\n",
              "      <td>0</td>\n",
              "      <td>0</td>\n",
              "      <td>0</td>\n",
              "    </tr>\n",
              "    <tr>\n",
              "      <th>1965</th>\n",
              "      <td>1433884</td>\n",
              "      <td>13</td>\n",
              "      <td>15</td>\n",
              "      <td>2000</td>\n",
              "      <td>1</td>\n",
              "      <td>male</td>\n",
              "      <td>199.0</td>\n",
              "      <td>1</td>\n",
              "      <td>1</td>\n",
              "      <td>0</td>\n",
              "      <td>0</td>\n",
              "      <td>0</td>\n",
              "      <td>0</td>\n",
              "      <td>0</td>\n",
              "      <td>0</td>\n",
              "    </tr>\n",
              "    <tr>\n",
              "      <th>1966</th>\n",
              "      <td>1995935</td>\n",
              "      <td>13</td>\n",
              "      <td>1</td>\n",
              "      <td>2000</td>\n",
              "      <td>1</td>\n",
              "      <td>male</td>\n",
              "      <td>264.0</td>\n",
              "      <td>1</td>\n",
              "      <td>0</td>\n",
              "      <td>0</td>\n",
              "      <td>0</td>\n",
              "      <td>0</td>\n",
              "      <td>0</td>\n",
              "      <td>0</td>\n",
              "      <td>0</td>\n",
              "    </tr>\n",
              "  </tbody>\n",
              "</table>\n",
              "</div>"
            ],
            "text/plain": [
              "       userid  age  ...  www_likes  www_likes_received\n",
              "1962  1295206   14  ...          0                   0\n",
              "1963  1549189   14  ...          0                   0\n",
              "1964  1102182   14  ...          0                   0\n",
              "1965  1433884   13  ...          0                   0\n",
              "1966  1995935   13  ...          0                   0\n",
              "\n",
              "[5 rows x 15 columns]"
            ]
          },
          "metadata": {},
          "execution_count": 31
        }
      ]
    },
    {
      "cell_type": "code",
      "metadata": {
        "colab": {
          "base_uri": "https://localhost:8080/",
          "height": 320
        },
        "id": "uwDduybwu08K",
        "outputId": "3182c195-45f6-4753-f177-d09b48228d5d"
      },
      "source": [
        "#draw bar graph w.r.t top friend count\n",
        "plt.figure(figsize=(12,5))\n",
        "plt.bar(list(friend_list[\"friend_count\"].value_counts()[:10].keys()),list(friend_list[\"friend_count\"].value_counts()[:10]),label=\"Friend Request\")\n",
        "plt.legend()\n",
        "plt.show()"
      ],
      "execution_count": 36,
      "outputs": [
        {
          "output_type": "display_data",
          "data": {
            "image/png": "[encoded data removed]",
            "text/plain": [
              "<Figure size 864x360 with 1 Axes>"
            ]
          },
          "metadata": {}
        }
      ]
    },
    {
      "cell_type": "code",
      "metadata": {
        "id": "IhY-SUhVwJhV"
      },
      "source": [
        "friend_accepted=facebook_data[facebook_data[\"friendships_initiated\"]!=0]"
      ],
      "execution_count": 37,
      "outputs": []
    },
    {
      "cell_type": "code",
      "metadata": {
        "colab": {
          "base_uri": "https://localhost:8080/",
          "height": 443
        },
        "id": "rgrHbtYzwXZW",
        "outputId": "1b0e713a-48b0-4e19-ff91-0ea8a4bc50a8"
      },
      "source": [
        "#check higest number of friend request initiated\n",
        "plt.figure(figsize=(12,7))\n",
        "sns.set_style(style=\"darkgrid\")\n",
        "sns.countplot(x=\"friendships_initiated\",data=facebook_data,palette=\"rainbow\",order=friend_accepted[\"friendships_initiated\"].value_counts().index[:10])\n",
        "plt.show()"
      ],
      "execution_count": 38,
      "outputs": [
        {
          "output_type": "display_data",
          "data": {
            "image/png": "[encoded data removed]",
            "text/plain": [
              "<Figure size 864x504 with 1 Axes>"
            ]
          },
          "metadata": {}
        }
      ]
    },
    {
      "cell_type": "code",
      "metadata": {
        "id": "F6_lClG1xZbC"
      },
      "source": [
        "#check mobile likes\n",
        "mobile_likes_recived=facebook_data[facebook_data[\"mobile_likes_received\"]!=0]"
      ],
      "execution_count": 39,
      "outputs": []
    },
    {
      "cell_type": "code",
      "metadata": {
        "colab": {
          "base_uri": "https://localhost:8080/",
          "height": 606
        },
        "id": "R1v_eB0yxriY",
        "outputId": "fd0e18ca-ce6d-44ce-dad0-bcfce71b0efe"
      },
      "source": [
        "#check top 10 mobile like w.r.t gender\n",
        "plt.figure(figsize=(15,10))\n",
        "sns.set_style(style=\"darkgrid\")\n",
        "sns.countplot(x=\"mobile_likes_received\",data=facebook_data,hue=\"gender\",palette=\"rainbow\",order=mobile_likes_recived[\"mobile_likes_received\"].value_counts().index[:15])\n",
        "plt.show()"
      ],
      "execution_count": 41,
      "outputs": [
        {
          "output_type": "display_data",
          "data": {
            "image/png": "[encoded data removed]",
            "text/plain": [
              "<Figure size 1080x720 with 1 Axes>"
            ]
          },
          "metadata": {}
        }
      ]
    },
    {
      "cell_type": "code",
      "metadata": {
        "id": "c6e1XBhwy98L"
      },
      "source": [
        "#www like\n",
        "www_likes=facebook_data[facebook_data[\"www_likes\"]!=0]\n"
      ],
      "execution_count": 42,
      "outputs": []
    },
    {
      "cell_type": "code",
      "metadata": {
        "colab": {
          "base_uri": "https://localhost:8080/",
          "height": 320
        },
        "id": "cLGFNMQgzKX4",
        "outputId": "f2a5cabc-5b1e-4917-9ae0-854d980a0773"
      },
      "source": [
        "#draw violin plot of it\n",
        "plt.figure(figsize=(10,5))\n",
        "sns.violinplot(y=\"www_likes\", data=facebook_data,order=www_likes[\"www_likes\"].value_counts().index[:10],palette=\"rainbow\")"
      ],
      "execution_count": 47,
      "outputs": [
        {
          "output_type": "execute_result",
          "data": {
            "text/plain": [
              "<matplotlib.axes._subplots.AxesSubplot at 0x7f917c8c3ed0>"
            ]
          },
          "metadata": {},
          "execution_count": 47
        },
        {
          "output_type": "display_data",
          "data": {
            "image/png": "[encoded data removed]",
            "text/plain": [
              "<Figure size 720x360 with 1 Axes>"
            ]
          },
          "metadata": {}
        }
      ]
    },
    {
      "cell_type": "code",
      "metadata": {
        "id": "BV_GId260IGM"
      },
      "source": [
        "#check www likes w.r.t gender\n",
        "www_likes_received=facebook_data[facebook_data[\"www_likes_received\"]!=0]\n"
      ],
      "execution_count": 48,
      "outputs": []
    },
    {
      "cell_type": "code",
      "metadata": {
        "colab": {
          "base_uri": "https://localhost:8080/",
          "height": 497
        },
        "id": "G_zN5-Cg1feQ",
        "outputId": "cdfa48fd-80d3-469e-f6eb-f0a676ce4f15"
      },
      "source": [
        "plt.figure(figsize=(15,7))\n",
        "sns.set_style(style=\"darkgrid\")\n",
        "sns.countplot(\"www_likes_received\", data=facebook_data,palette=\"Set2\", hue=\"gender\", order=www_likes_received[\"www_likes_received\"].value_counts().index[:20])\n",
        "plt.show()"
      ],
      "execution_count": 49,
      "outputs": [
        {
          "output_type": "stream",
          "text": [
            "/usr/local/lib/python3.7/dist-packages/seaborn/_decorators.py:43: FutureWarning: Pass the following variable as a keyword arg: x. From version 0.12, the only valid positional argument will be `data`, and passing other arguments without an explicit keyword will result in an error or misinterpretation.\n",
            "  FutureWarning\n"
          ],
          "name": "stderr"
        },
        {
          "output_type": "display_data",
          "data": {
            "image/png": "[encoded data removed]",
            "text/plain": [
              "<Figure size 1080x504 with 1 Axes>"
            ]
          },
          "metadata": {}
        }
      ]
    },
    {
      "cell_type": "code",
      "metadata": {
        "colab": {
          "base_uri": "https://localhost:8080/"
        },
        "id": "vQLTgfSw2i2d",
        "outputId": "d69c8ed0-8425-4a28-f063-28ed0735f692"
      },
      "source": [
        "#count males and females\n",
        "facebook_data[\"gender\"].value_counts()"
      ],
      "execution_count": 50,
      "outputs": [
        {
          "output_type": "execute_result",
          "data": {
            "text/plain": [
              "male      58574\n",
              "female    40252\n",
              "Name: gender, dtype: int64"
            ]
          },
          "metadata": {},
          "execution_count": 50
        }
      ]
    },
    {
      "cell_type": "code",
      "metadata": {
        "colab": {
          "base_uri": "https://localhost:8080/",
          "height": 333
        },
        "id": "DLZV3bho3DLt",
        "outputId": "b7ddaadc-8036-4d34-f096-2c1443250f39"
      },
      "source": [
        "plt.figure(figsize=(10,4))\n",
        "sns.set_palette(\"rainbow\")\n",
        "sns.set_style(\"whitegrid\")\n",
        "sns.countplot(\"gender\",data=facebook_data)\n",
        "plt.show()"
      ],
      "execution_count": 51,
      "outputs": [
        {
          "output_type": "stream",
          "text": [
            "/usr/local/lib/python3.7/dist-packages/seaborn/_decorators.py:43: FutureWarning: Pass the following variable as a keyword arg: x. From version 0.12, the only valid positional argument will be `data`, and passing other arguments without an explicit keyword will result in an error or misinterpretation.\n",
            "  FutureWarning\n"
          ],
          "name": "stderr"
        },
        {
          "output_type": "display_data",
          "data": {
            "image/png": "[encoded data removed]",
            "text/plain": [
              "<Figure size 720x288 with 1 Axes>"
            ]
          },
          "metadata": {}
        }
      ]
    },
    {
      "cell_type": "code",
      "metadata": {
        "colab": {
          "base_uri": "https://localhost:8080/",
          "height": 374
        },
        "id": "rzJldXRV3lgx",
        "outputId": "ad1aabf7-7eb0-420c-d10e-62b084018b4b"
      },
      "source": [
        "#draw piechart\n",
        "plt.figure(figsize=(10,6))\n",
        "sns.set_style(\"darkgrid\")\n",
        "sns.set_palette(\"Set2\")\n",
        "explode=[0,0.1]\n",
        "plt.legend(title=\"Males and Females\")\n",
        "plt.pie(list(facebook_data[\"gender\"].value_counts()),labels=list(facebook_data[\"gender\"].value_counts().keys()),autopct=\"%.1f%%\",explode=explode)\n",
        "plt.show()"
      ],
      "execution_count": 57,
      "outputs": [
        {
          "output_type": "stream",
          "text": [
            "No handles with labels found to put in legend.\n"
          ],
          "name": "stderr"
        },
        {
          "output_type": "display_data",
          "data": {
            "image/png": "[encoded data removed]",
            "text/plain": [
              "<Figure size 720x432 with 1 Axes>"
            ]
          },
          "metadata": {}
        }
      ]
    },
    {
      "cell_type": "code",
      "metadata": {
        "colab": {
          "base_uri": "https://localhost:8080/"
        },
        "id": "h1RpJSbm4_pH",
        "outputId": "92849067-26df-4b2d-e5a0-a55331095ff7"
      },
      "source": [
        "#check count of b_day\n",
        "facebook_data[\"dob_month\"].value_counts()"
      ],
      "execution_count": 58,
      "outputs": [
        {
          "output_type": "execute_result",
          "data": {
            "text/plain": [
              "1     11737\n",
              "10     8466\n",
              "5      8260\n",
              "8      8255\n",
              "3      8095\n",
              "7      8006\n",
              "9      7923\n",
              "12     7883\n",
              "4      7794\n",
              "2      7617\n",
              "6      7594\n",
              "11     7196\n",
              "Name: dob_month, dtype: int64"
            ]
          },
          "metadata": {},
          "execution_count": 58
        }
      ]
    },
    {
      "cell_type": "code",
      "metadata": {
        "colab": {
          "base_uri": "https://localhost:8080/",
          "height": 389
        },
        "id": "6HlG3erE5IuB",
        "outputId": "693efdb8-b6e7-4d2b-cd5a-21137423051d"
      },
      "source": [
        "plt.figure(figsize=(12,5))\n",
        "sns.set_style(style=\"darkgrid\")\n",
        "sns.set_palette(\"Set2\")\n",
        "sns.countplot(\"dob_month\",data=facebook_data)\n",
        "plt.show()"
      ],
      "execution_count": 59,
      "outputs": [
        {
          "output_type": "stream",
          "text": [
            "/usr/local/lib/python3.7/dist-packages/seaborn/_decorators.py:43: FutureWarning: Pass the following variable as a keyword arg: x. From version 0.12, the only valid positional argument will be `data`, and passing other arguments without an explicit keyword will result in an error or misinterpretation.\n",
            "  FutureWarning\n"
          ],
          "name": "stderr"
        },
        {
          "output_type": "display_data",
          "data": {
            "image/png": "[encoded data removed]",
            "text/plain": [
              "<Figure size 864x360 with 1 Axes>"
            ]
          },
          "metadata": {}
        }
      ]
    },
    {
      "cell_type": "code",
      "metadata": {
        "colab": {
          "base_uri": "https://localhost:8080/"
        },
        "id": "7faI88C35767",
        "outputId": "e4a90ace-be8e-47f8-e9ce-04df7e9f47f6"
      },
      "source": [
        "#check b_day count\n",
        "facebook_data[\"dob_day\"].value_counts()"
      ],
      "execution_count": 60,
      "outputs": [
        {
          "output_type": "execute_result",
          "data": {
            "text/plain": [
              "1     7876\n",
              "10    4027\n",
              "15    3551\n",
              "5     3539\n",
              "12    3407\n",
              "2     3391\n",
              "3     3286\n",
              "20    3262\n",
              "17    3261\n",
              "25    3213\n",
              "14    3212\n",
              "4     3212\n",
              "8     3194\n",
              "6     3103\n",
              "11    3092\n",
              "18    3076\n",
              "7     3006\n",
              "9     3001\n",
              "16    2991\n",
              "19    2963\n",
              "28    2944\n",
              "13    2876\n",
              "23    2863\n",
              "22    2834\n",
              "21    2811\n",
              "24    2802\n",
              "27    2753\n",
              "26    2746\n",
              "30    2526\n",
              "29    2502\n",
              "31    1506\n",
              "Name: dob_day, dtype: int64"
            ]
          },
          "metadata": {},
          "execution_count": 60
        }
      ]
    },
    {
      "cell_type": "code",
      "metadata": {
        "colab": {
          "base_uri": "https://localhost:8080/",
          "height": 280
        },
        "id": "argY_OF46Ig2",
        "outputId": "bbea845b-3b71-47db-95f9-db61d1daa964"
      },
      "source": [
        "plt.figure(figsize=(9,4))\n",
        "sns.set_palette(\"Set2\")\n",
        "sns.countplot(x=\"dob_day\",data=facebook_data)\n",
        "plt.show()"
      ],
      "execution_count": 67,
      "outputs": [
        {
          "output_type": "display_data",
          "data": {
            "image/png": "[encoded data removed]",
            "text/plain": [
              "<Figure size 648x288 with 1 Axes>"
            ]
          },
          "metadata": {}
        }
      ]
    },
    {
      "cell_type": "code",
      "metadata": {
        "colab": {
          "base_uri": "https://localhost:8080/"
        },
        "id": "e9XEyFiO7V9V",
        "outputId": "e16a728b-3e8e-4338-bc48-1872fda24b90"
      },
      "source": [
        "#count datw.r.t dateofbirth\n",
        "facebook_data[\"dob_year\"].value_counts()"
      ],
      "execution_count": 68,
      "outputs": [
        {
          "output_type": "execute_result",
          "data": {
            "text/plain": [
              "1995    5196\n",
              "1990    4402\n",
              "1994    4390\n",
              "1993    3768\n",
              "1992    3670\n",
              "        ... \n",
              "1926      41\n",
              "1901      18\n",
              "1902      17\n",
              "1903      14\n",
              "1904       9\n",
              "Name: dob_year, Length: 101, dtype: int64"
            ]
          },
          "metadata": {},
          "execution_count": 68
        }
      ]
    },
    {
      "cell_type": "code",
      "metadata": {
        "colab": {
          "base_uri": "https://localhost:8080/",
          "height": 428
        },
        "id": "nmr0u1Qz7p8I",
        "outputId": "1a936a49-9155-45b7-a6a4-efa0ec7e92dd"
      },
      "source": [
        "plt.figure(figsize=(15,7))\n",
        "plt.bar(list(facebook_data[\"dob_year\"].value_counts().keys()),list(facebook_data[\"dob_year\"].value_counts()),label=\"Date Of Year\")\n",
        "plt.legend()\n",
        "plt.show()"
      ],
      "execution_count": 70,
      "outputs": [
        {
          "output_type": "display_data",
          "data": {
            "image/png": "[encoded data removed]",
            "text/plain": [
              "<Figure size 1080x504 with 1 Axes>"
            ]
          },
          "metadata": {}
        }
      ]
    }
  ]
}